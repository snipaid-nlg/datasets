{
  "nbformat": 4,
  "nbformat_minor": 0,
  "metadata": {
    "colab": {
      "provenance": [],
      "include_colab_link": true
    },
    "kernelspec": {
      "name": "python3",
      "display_name": "Python 3"
    },
    "language_info": {
      "name": "python"
    }
  },
  "cells": [
    {
      "cell_type": "markdown",
      "metadata": {
        "id": "view-in-github",
        "colab_type": "text"
      },
      "source": [
        "<a href=\"https://colab.research.google.com/github/snipaid-nlg/datasets/blob/main/evaluation/german-news-dataset-by-steven-mi.ipynb\" target=\"_parent\"><img src=\"https://colab.research.google.com/assets/colab-badge.svg\" alt=\"Open In Colab\"/></a>"
      ]
    },
    {
      "cell_type": "code",
      "source": [
        "from google.colab import drive\n",
        "drive.mount('/content/drive')"
      ],
      "metadata": {
        "colab": {
          "base_uri": "https://localhost:8080/"
        },
        "id": "FFI-QtI_cg95",
        "outputId": "b224eaa9-4a2c-402b-b7fa-7f48f20837c8"
      },
      "execution_count": null,
      "outputs": [
        {
          "output_type": "stream",
          "name": "stdout",
          "text": [
            "Mounted at /content/drive\n"
          ]
        }
      ]
    },
    {
      "cell_type": "code",
      "source": [
        "!unzip \"/content/drive/MyDrive/SnipAId2023/Datasets/german-news-dataset.zip\" -d german-news-dataset"
      ],
      "metadata": {
        "colab": {
          "base_uri": "https://localhost:8080/"
        },
        "id": "L3O-8SmEYr56",
        "outputId": "d5753a09-8c1c-4125-c177-27a38ada9a82"
      },
      "execution_count": null,
      "outputs": [
        {
          "output_type": "stream",
          "name": "stdout",
          "text": [
            "Archive:  /content/drive/MyDrive/SnipAId2023/Datasets/german-news-dataset.zip\n",
            "  inflating: german-news-dataset/data.csv  \n"
          ]
        }
      ]
    },
    {
      "cell_type": "code",
      "source": [
        "import pandas as pd"
      ],
      "metadata": {
        "id": "EjVB5-tZrOfR"
      },
      "execution_count": null,
      "outputs": []
    },
    {
      "cell_type": "code",
      "source": [
        "df = pd.read_csv(\"/content/german-news-dataset/data.csv\")"
      ],
      "metadata": {
        "id": "_d9WjPM6rSNi"
      },
      "execution_count": null,
      "outputs": []
    },
    {
      "cell_type": "code",
      "source": [
        "df.head()"
      ],
      "metadata": {
        "colab": {
          "base_uri": "https://localhost:8080/",
          "height": 206
        },
        "id": "AmNRLIxyrlwY",
        "outputId": "57b08786-9c40-4e9a-b951-36532cd52b07"
      },
      "execution_count": null,
      "outputs": [
        {
          "output_type": "execute_result",
          "data": {
            "text/plain": [
              "                                               title  \\\n",
              "0  Warum nicht mal die Russen Putins Impfstoff wo...   \n",
              "1      Mario Götze schwärmt von Schmidts Philosophie   \n",
              "2  Welternährungsprogramm erhält den Friedensnobe...   \n",
              "3  Welternährungsprogramm erhält den Friedensnobe...   \n",
              "4  In welchen deutschen Großstädten die Lage krit...   \n",
              "\n",
              "                                                text  \\\n",
              "0  Im Kreml sollte es in diesen Tagen eigentlich ...   \n",
              "1                                                NaN   \n",
              "2  Der Preis setze ein Zeichen für die Millionen ...   \n",
              "3                                                NaN   \n",
              "4  Die Kanzlerin berät mit den Bürgermeistern der...   \n",
              "\n",
              "                                              author   published  \\\n",
              "0                                      Pavel Lokshin  1602234820   \n",
              "1                                                NaN  1602234283   \n",
              "2  'Hannes Stein', 'Birgit Herden', 'Dirk Schümer...  1602234160   \n",
              "3                                                NaN  1602234057   \n",
              "4  'Daniele Raffaele Gambone', 'Christoph B. Schi...  1602233883   \n",
              "\n",
              "                             tags source  \n",
              "0            Ausland, „Sputnik V“   welt  \n",
              "1            Sport, PSV Eindhoven   welt  \n",
              "2                   Ausland, Oslo   welt  \n",
              "3  Panorama, Entscheidung in Oslo   welt  \n",
              "4    Deutschland, Corona-Pandemie   welt  "
            ],
            "text/html": [
              "\n",
              "  <div id=\"df-f4b72a62-7faf-48a3-b992-92f7a5b6acc7\">\n",
              "    <div class=\"colab-df-container\">\n",
              "      <div>\n",
              "<style scoped>\n",
              "    .dataframe tbody tr th:only-of-type {\n",
              "        vertical-align: middle;\n",
              "    }\n",
              "\n",
              "    .dataframe tbody tr th {\n",
              "        vertical-align: top;\n",
              "    }\n",
              "\n",
              "    .dataframe thead th {\n",
              "        text-align: right;\n",
              "    }\n",
              "</style>\n",
              "<table border=\"1\" class=\"dataframe\">\n",
              "  <thead>\n",
              "    <tr style=\"text-align: right;\">\n",
              "      <th></th>\n",
              "      <th>title</th>\n",
              "      <th>text</th>\n",
              "      <th>author</th>\n",
              "      <th>published</th>\n",
              "      <th>tags</th>\n",
              "      <th>source</th>\n",
              "    </tr>\n",
              "  </thead>\n",
              "  <tbody>\n",
              "    <tr>\n",
              "      <th>0</th>\n",
              "      <td>Warum nicht mal die Russen Putins Impfstoff wo...</td>\n",
              "      <td>Im Kreml sollte es in diesen Tagen eigentlich ...</td>\n",
              "      <td>Pavel Lokshin</td>\n",
              "      <td>1602234820</td>\n",
              "      <td>Ausland, „Sputnik V“</td>\n",
              "      <td>welt</td>\n",
              "    </tr>\n",
              "    <tr>\n",
              "      <th>1</th>\n",
              "      <td>Mario Götze schwärmt von Schmidts Philosophie</td>\n",
              "      <td>NaN</td>\n",
              "      <td>NaN</td>\n",
              "      <td>1602234283</td>\n",
              "      <td>Sport, PSV Eindhoven</td>\n",
              "      <td>welt</td>\n",
              "    </tr>\n",
              "    <tr>\n",
              "      <th>2</th>\n",
              "      <td>Welternährungsprogramm erhält den Friedensnobe...</td>\n",
              "      <td>Der Preis setze ein Zeichen für die Millionen ...</td>\n",
              "      <td>'Hannes Stein', 'Birgit Herden', 'Dirk Schümer...</td>\n",
              "      <td>1602234160</td>\n",
              "      <td>Ausland, Oslo</td>\n",
              "      <td>welt</td>\n",
              "    </tr>\n",
              "    <tr>\n",
              "      <th>3</th>\n",
              "      <td>Welternährungsprogramm erhält den Friedensnobe...</td>\n",
              "      <td>NaN</td>\n",
              "      <td>NaN</td>\n",
              "      <td>1602234057</td>\n",
              "      <td>Panorama, Entscheidung in Oslo</td>\n",
              "      <td>welt</td>\n",
              "    </tr>\n",
              "    <tr>\n",
              "      <th>4</th>\n",
              "      <td>In welchen deutschen Großstädten die Lage krit...</td>\n",
              "      <td>Die Kanzlerin berät mit den Bürgermeistern der...</td>\n",
              "      <td>'Daniele Raffaele Gambone', 'Christoph B. Schi...</td>\n",
              "      <td>1602233883</td>\n",
              "      <td>Deutschland, Corona-Pandemie</td>\n",
              "      <td>welt</td>\n",
              "    </tr>\n",
              "  </tbody>\n",
              "</table>\n",
              "</div>\n",
              "      <button class=\"colab-df-convert\" onclick=\"convertToInteractive('df-f4b72a62-7faf-48a3-b992-92f7a5b6acc7')\"\n",
              "              title=\"Convert this dataframe to an interactive table.\"\n",
              "              style=\"display:none;\">\n",
              "        \n",
              "  <svg xmlns=\"http://www.w3.org/2000/svg\" height=\"24px\"viewBox=\"0 0 24 24\"\n",
              "       width=\"24px\">\n",
              "    <path d=\"M0 0h24v24H0V0z\" fill=\"none\"/>\n",
              "    <path d=\"M18.56 5.44l.94 2.06.94-2.06 2.06-.94-2.06-.94-.94-2.06-.94 2.06-2.06.94zm-11 1L8.5 8.5l.94-2.06 2.06-.94-2.06-.94L8.5 2.5l-.94 2.06-2.06.94zm10 10l.94 2.06.94-2.06 2.06-.94-2.06-.94-.94-2.06-.94 2.06-2.06.94z\"/><path d=\"M17.41 7.96l-1.37-1.37c-.4-.4-.92-.59-1.43-.59-.52 0-1.04.2-1.43.59L10.3 9.45l-7.72 7.72c-.78.78-.78 2.05 0 2.83L4 21.41c.39.39.9.59 1.41.59.51 0 1.02-.2 1.41-.59l7.78-7.78 2.81-2.81c.8-.78.8-2.07 0-2.86zM5.41 20L4 18.59l7.72-7.72 1.47 1.35L5.41 20z\"/>\n",
              "  </svg>\n",
              "      </button>\n",
              "      \n",
              "  <style>\n",
              "    .colab-df-container {\n",
              "      display:flex;\n",
              "      flex-wrap:wrap;\n",
              "      gap: 12px;\n",
              "    }\n",
              "\n",
              "    .colab-df-convert {\n",
              "      background-color: #E8F0FE;\n",
              "      border: none;\n",
              "      border-radius: 50%;\n",
              "      cursor: pointer;\n",
              "      display: none;\n",
              "      fill: #1967D2;\n",
              "      height: 32px;\n",
              "      padding: 0 0 0 0;\n",
              "      width: 32px;\n",
              "    }\n",
              "\n",
              "    .colab-df-convert:hover {\n",
              "      background-color: #E2EBFA;\n",
              "      box-shadow: 0px 1px 2px rgba(60, 64, 67, 0.3), 0px 1px 3px 1px rgba(60, 64, 67, 0.15);\n",
              "      fill: #174EA6;\n",
              "    }\n",
              "\n",
              "    [theme=dark] .colab-df-convert {\n",
              "      background-color: #3B4455;\n",
              "      fill: #D2E3FC;\n",
              "    }\n",
              "\n",
              "    [theme=dark] .colab-df-convert:hover {\n",
              "      background-color: #434B5C;\n",
              "      box-shadow: 0px 1px 3px 1px rgba(0, 0, 0, 0.15);\n",
              "      filter: drop-shadow(0px 1px 2px rgba(0, 0, 0, 0.3));\n",
              "      fill: #FFFFFF;\n",
              "    }\n",
              "  </style>\n",
              "\n",
              "      <script>\n",
              "        const buttonEl =\n",
              "          document.querySelector('#df-f4b72a62-7faf-48a3-b992-92f7a5b6acc7 button.colab-df-convert');\n",
              "        buttonEl.style.display =\n",
              "          google.colab.kernel.accessAllowed ? 'block' : 'none';\n",
              "\n",
              "        async function convertToInteractive(key) {\n",
              "          const element = document.querySelector('#df-f4b72a62-7faf-48a3-b992-92f7a5b6acc7');\n",
              "          const dataTable =\n",
              "            await google.colab.kernel.invokeFunction('convertToInteractive',\n",
              "                                                     [key], {});\n",
              "          if (!dataTable) return;\n",
              "\n",
              "          const docLinkHtml = 'Like what you see? Visit the ' +\n",
              "            '<a target=\"_blank\" href=https://colab.research.google.com/notebooks/data_table.ipynb>data table notebook</a>'\n",
              "            + ' to learn more about interactive tables.';\n",
              "          element.innerHTML = '';\n",
              "          dataTable['output_type'] = 'display_data';\n",
              "          await google.colab.output.renderOutput(dataTable, element);\n",
              "          const docLink = document.createElement('div');\n",
              "          docLink.innerHTML = docLinkHtml;\n",
              "          element.appendChild(docLink);\n",
              "        }\n",
              "      </script>\n",
              "    </div>\n",
              "  </div>\n",
              "  "
            ]
          },
          "metadata": {},
          "execution_count": 5
        }
      ]
    },
    {
      "cell_type": "markdown",
      "source": [
        "We don't need the columns Author and tags, therefore removing them from the dataframe"
      ],
      "metadata": {
        "id": "lQoSv8Fkw0kU"
      }
    },
    {
      "cell_type": "code",
      "source": [
        "df = df.drop([\"author\", \"tags\"], axis=1)"
      ],
      "metadata": {
        "id": "_rzkAHCrwzrU"
      },
      "execution_count": null,
      "outputs": []
    },
    {
      "cell_type": "markdown",
      "source": [
        "## Source Distribution"
      ],
      "metadata": {
        "id": "6wt_4Cl4rxWI"
      }
    },
    {
      "cell_type": "code",
      "source": [
        "df[\"source\"].value_counts()"
      ],
      "metadata": {
        "colab": {
          "base_uri": "https://localhost:8080/"
        },
        "id": "CP7Ra_UCr6oQ",
        "outputId": "e04471c8-1b53-4cd6-96ba-9c496f710975"
      },
      "execution_count": null,
      "outputs": [
        {
          "output_type": "execute_result",
          "data": {
            "text/plain": [
              "bild                          17622\n",
              "mainpost                      14265\n",
              "sueddeutche                   12999\n",
              "spiegel                       12584\n",
              "faz                           11085\n",
              "welt                          10233\n",
              "tagesspiegel                   9547\n",
              "focus                          9277\n",
              "zeit                           7193\n",
              "berliner-zeitung               7118\n",
              "handelsblatt                   6681\n",
              "heise                          6007\n",
              "taz                            5370\n",
              "stuttgarter-zeitung            3027\n",
              "tag24                          1946\n",
              "wz                             1658\n",
              "ikz-online                      931\n",
              "idowa                           762\n",
              "express                         539\n",
              "haller-kreisblatt               491\n",
              "landeszeitung                   477\n",
              "kn-online                       456\n",
              "esslinger-zeitung               397\n",
              "goettinger-tageblatt            373\n",
              "ksta                            352\n",
              "hna                             312\n",
              "weser-kurier                    307\n",
              "hersfelder-zeitung              292\n",
              "bz-berlin                       282\n",
              "dnn                             250\n",
              "gmuender-tagespost              248\n",
              "fuldaerzeitung                  222\n",
              "wetterauer-zeitung              187\n",
              "kurier                          178\n",
              "fehmarn24                       177\n",
              "waz-online                      164\n",
              "hertener-allgemeine             134\n",
              "hanauer                         107\n",
              "kreiszeitung                    105\n",
              "giessener-allgemeine             86\n",
              "kornwestheimer-zeitung           77\n",
              "gandersheimer-kreisblatt         47\n",
              "kevelaerer-blatt                 43\n",
              "lahrer-zeitung                   42\n",
              "deutsche-handwerks-zeitung       36\n",
              "chrismon                         29\n",
              "torgauerzeitung                  24\n",
              "freitag                           2\n",
              "Name: source, dtype: int64"
            ]
          },
          "metadata": {},
          "execution_count": 60
        }
      ]
    },
    {
      "cell_type": "markdown",
      "source": [
        "## NaNs"
      ],
      "metadata": {
        "id": "A4hdn_Hyr1GV"
      }
    },
    {
      "cell_type": "markdown",
      "source": [
        "There are 7659 records without a fulltext"
      ],
      "metadata": {
        "id": "IiJ-zOvGuogz"
      }
    },
    {
      "cell_type": "code",
      "source": [
        "df[\"text\"].isna().sum()"
      ],
      "metadata": {
        "colab": {
          "base_uri": "https://localhost:8080/"
        },
        "id": "gmHvHlyAtQV2",
        "outputId": "31a986de-9362-4f30-85db-fe003c68f97f"
      },
      "execution_count": null,
      "outputs": [
        {
          "output_type": "execute_result",
          "data": {
            "text/plain": [
              "7659"
            ]
          },
          "metadata": {},
          "execution_count": 7
        }
      ]
    },
    {
      "cell_type": "markdown",
      "source": [
        "and 22 records with the string \"NaN in the fulltext column"
      ],
      "metadata": {
        "id": "oqjG7MCvudsk"
      }
    },
    {
      "cell_type": "code",
      "source": [
        "df[\"text\"].str.count(\"NaN\").sum()"
      ],
      "metadata": {
        "colab": {
          "base_uri": "https://localhost:8080/"
        },
        "id": "S-v1sImKr7aH",
        "outputId": "3a611893-0b80-4c7c-90df-8478ae951f08"
      },
      "execution_count": null,
      "outputs": [
        {
          "output_type": "execute_result",
          "data": {
            "text/plain": [
              "0"
            ]
          },
          "metadata": {},
          "execution_count": 14
        }
      ]
    },
    {
      "cell_type": "code",
      "source": [
        "df = df.dropna(subset=['text'])"
      ],
      "metadata": {
        "id": "qkiFQYG-vgJ3"
      },
      "execution_count": null,
      "outputs": []
    },
    {
      "cell_type": "code",
      "source": [
        "df = df[df[\"text\"].str.contains(\"NaN\")==False]"
      ],
      "metadata": {
        "id": "clM6lbReyZkI"
      },
      "execution_count": null,
      "outputs": []
    },
    {
      "cell_type": "code",
      "source": [
        "df"
      ],
      "metadata": {
        "colab": {
          "base_uri": "https://localhost:8080/",
          "height": 423
        },
        "id": "vmKsxoBryeZ5",
        "outputId": "e2c68785-7f0b-4ad7-a5f2-b339c3d4e75c"
      },
      "execution_count": null,
      "outputs": [
        {
          "output_type": "execute_result",
          "data": {
            "text/plain": [
              "                                                    title  \\\n",
              "0       Warum nicht mal die Russen Putins Impfstoff wo...   \n",
              "2       Welternährungsprogramm erhält den Friedensnobe...   \n",
              "4       In welchen deutschen Großstädten die Lage krit...   \n",
              "7       Klopp beschreibt den Moment, als er vom Liverp...   \n",
              "8       Das beste FIFA aller Zeiten – mit einem großen...   \n",
              "...                                                   ...   \n",
              "174934              Jahrmarkt fällt Coronavirus zum Opfer   \n",
              "174935  Jubiläum mit Feierstunde „open air“ gewürdigt:...   \n",
              "174936   Finanzamt: Ab 1. Dezember Goslar-Bad Gandersheim   \n",
              "174937  Corona-Ferienpass: Stadtjugendpfleger zieht Er...   \n",
              "174938  Freibadsaison im Waldschwimmbad Düderode endet...   \n",
              "\n",
              "                                                     text   published  \\\n",
              "0       Im Kreml sollte es in diesen Tagen eigentlich ...  1602234820   \n",
              "2       Der Preis setze ein Zeichen für die Millionen ...  1602234160   \n",
              "4       Die Kanzlerin berät mit den Bürgermeistern der...  1602233883   \n",
              "7       Anzeige\\n\\nWie die Zeit vergeht, merkt auch er...  1602233011   \n",
              "8       Anzeige\\n\\nDie Corona-Krise hat auch vor dem e...  1602232402   \n",
              "...                                                   ...         ...   \n",
              "174934  04.09.2020 | 05:41\\n\\nGreene. „Bis zuletzt hab...  1599198060   \n",
              "174935  03.09.2020 | 20:42\\n\\nWillershausen. Das 100-j...  1599165720   \n",
              "174936  Bad Gandersheim. Die Entwicklung ist bereits i...  1599112440   \n",
              "174937  03.09.2020 | 05:53\\n\\nBad Gandersheim. Das war...  1599112380   \n",
              "174938  03.09.2020 | 05:52\\n\\nDüderode. Eine nicht nur...  1599112320   \n",
              "\n",
              "                          source  \n",
              "0                           welt  \n",
              "2                           welt  \n",
              "4                           welt  \n",
              "7                           welt  \n",
              "8                           welt  \n",
              "...                          ...  \n",
              "174934  gandersheimer-kreisblatt  \n",
              "174935  gandersheimer-kreisblatt  \n",
              "174936  gandersheimer-kreisblatt  \n",
              "174937  gandersheimer-kreisblatt  \n",
              "174938  gandersheimer-kreisblatt  \n",
              "\n",
              "[167276 rows x 4 columns]"
            ],
            "text/html": [
              "\n",
              "  <div id=\"df-d548f245-761d-4468-9d0d-1a9d7f59a550\">\n",
              "    <div class=\"colab-df-container\">\n",
              "      <div>\n",
              "<style scoped>\n",
              "    .dataframe tbody tr th:only-of-type {\n",
              "        vertical-align: middle;\n",
              "    }\n",
              "\n",
              "    .dataframe tbody tr th {\n",
              "        vertical-align: top;\n",
              "    }\n",
              "\n",
              "    .dataframe thead th {\n",
              "        text-align: right;\n",
              "    }\n",
              "</style>\n",
              "<table border=\"1\" class=\"dataframe\">\n",
              "  <thead>\n",
              "    <tr style=\"text-align: right;\">\n",
              "      <th></th>\n",
              "      <th>title</th>\n",
              "      <th>text</th>\n",
              "      <th>published</th>\n",
              "      <th>source</th>\n",
              "    </tr>\n",
              "  </thead>\n",
              "  <tbody>\n",
              "    <tr>\n",
              "      <th>0</th>\n",
              "      <td>Warum nicht mal die Russen Putins Impfstoff wo...</td>\n",
              "      <td>Im Kreml sollte es in diesen Tagen eigentlich ...</td>\n",
              "      <td>1602234820</td>\n",
              "      <td>welt</td>\n",
              "    </tr>\n",
              "    <tr>\n",
              "      <th>2</th>\n",
              "      <td>Welternährungsprogramm erhält den Friedensnobe...</td>\n",
              "      <td>Der Preis setze ein Zeichen für die Millionen ...</td>\n",
              "      <td>1602234160</td>\n",
              "      <td>welt</td>\n",
              "    </tr>\n",
              "    <tr>\n",
              "      <th>4</th>\n",
              "      <td>In welchen deutschen Großstädten die Lage krit...</td>\n",
              "      <td>Die Kanzlerin berät mit den Bürgermeistern der...</td>\n",
              "      <td>1602233883</td>\n",
              "      <td>welt</td>\n",
              "    </tr>\n",
              "    <tr>\n",
              "      <th>7</th>\n",
              "      <td>Klopp beschreibt den Moment, als er vom Liverp...</td>\n",
              "      <td>Anzeige\\n\\nWie die Zeit vergeht, merkt auch er...</td>\n",
              "      <td>1602233011</td>\n",
              "      <td>welt</td>\n",
              "    </tr>\n",
              "    <tr>\n",
              "      <th>8</th>\n",
              "      <td>Das beste FIFA aller Zeiten – mit einem großen...</td>\n",
              "      <td>Anzeige\\n\\nDie Corona-Krise hat auch vor dem e...</td>\n",
              "      <td>1602232402</td>\n",
              "      <td>welt</td>\n",
              "    </tr>\n",
              "    <tr>\n",
              "      <th>...</th>\n",
              "      <td>...</td>\n",
              "      <td>...</td>\n",
              "      <td>...</td>\n",
              "      <td>...</td>\n",
              "    </tr>\n",
              "    <tr>\n",
              "      <th>174934</th>\n",
              "      <td>Jahrmarkt fällt Coronavirus zum Opfer</td>\n",
              "      <td>04.09.2020 | 05:41\\n\\nGreene. „Bis zuletzt hab...</td>\n",
              "      <td>1599198060</td>\n",
              "      <td>gandersheimer-kreisblatt</td>\n",
              "    </tr>\n",
              "    <tr>\n",
              "      <th>174935</th>\n",
              "      <td>Jubiläum mit Feierstunde „open air“ gewürdigt:...</td>\n",
              "      <td>03.09.2020 | 20:42\\n\\nWillershausen. Das 100-j...</td>\n",
              "      <td>1599165720</td>\n",
              "      <td>gandersheimer-kreisblatt</td>\n",
              "    </tr>\n",
              "    <tr>\n",
              "      <th>174936</th>\n",
              "      <td>Finanzamt: Ab 1. Dezember Goslar-Bad Gandersheim</td>\n",
              "      <td>Bad Gandersheim. Die Entwicklung ist bereits i...</td>\n",
              "      <td>1599112440</td>\n",
              "      <td>gandersheimer-kreisblatt</td>\n",
              "    </tr>\n",
              "    <tr>\n",
              "      <th>174937</th>\n",
              "      <td>Corona-Ferienpass: Stadtjugendpfleger zieht Er...</td>\n",
              "      <td>03.09.2020 | 05:53\\n\\nBad Gandersheim. Das war...</td>\n",
              "      <td>1599112380</td>\n",
              "      <td>gandersheimer-kreisblatt</td>\n",
              "    </tr>\n",
              "    <tr>\n",
              "      <th>174938</th>\n",
              "      <td>Freibadsaison im Waldschwimmbad Düderode endet...</td>\n",
              "      <td>03.09.2020 | 05:52\\n\\nDüderode. Eine nicht nur...</td>\n",
              "      <td>1599112320</td>\n",
              "      <td>gandersheimer-kreisblatt</td>\n",
              "    </tr>\n",
              "  </tbody>\n",
              "</table>\n",
              "<p>167276 rows × 4 columns</p>\n",
              "</div>\n",
              "      <button class=\"colab-df-convert\" onclick=\"convertToInteractive('df-d548f245-761d-4468-9d0d-1a9d7f59a550')\"\n",
              "              title=\"Convert this dataframe to an interactive table.\"\n",
              "              style=\"display:none;\">\n",
              "        \n",
              "  <svg xmlns=\"http://www.w3.org/2000/svg\" height=\"24px\"viewBox=\"0 0 24 24\"\n",
              "       width=\"24px\">\n",
              "    <path d=\"M0 0h24v24H0V0z\" fill=\"none\"/>\n",
              "    <path d=\"M18.56 5.44l.94 2.06.94-2.06 2.06-.94-2.06-.94-.94-2.06-.94 2.06-2.06.94zm-11 1L8.5 8.5l.94-2.06 2.06-.94-2.06-.94L8.5 2.5l-.94 2.06-2.06.94zm10 10l.94 2.06.94-2.06 2.06-.94-2.06-.94-.94-2.06-.94 2.06-2.06.94z\"/><path d=\"M17.41 7.96l-1.37-1.37c-.4-.4-.92-.59-1.43-.59-.52 0-1.04.2-1.43.59L10.3 9.45l-7.72 7.72c-.78.78-.78 2.05 0 2.83L4 21.41c.39.39.9.59 1.41.59.51 0 1.02-.2 1.41-.59l7.78-7.78 2.81-2.81c.8-.78.8-2.07 0-2.86zM5.41 20L4 18.59l7.72-7.72 1.47 1.35L5.41 20z\"/>\n",
              "  </svg>\n",
              "      </button>\n",
              "      \n",
              "  <style>\n",
              "    .colab-df-container {\n",
              "      display:flex;\n",
              "      flex-wrap:wrap;\n",
              "      gap: 12px;\n",
              "    }\n",
              "\n",
              "    .colab-df-convert {\n",
              "      background-color: #E8F0FE;\n",
              "      border: none;\n",
              "      border-radius: 50%;\n",
              "      cursor: pointer;\n",
              "      display: none;\n",
              "      fill: #1967D2;\n",
              "      height: 32px;\n",
              "      padding: 0 0 0 0;\n",
              "      width: 32px;\n",
              "    }\n",
              "\n",
              "    .colab-df-convert:hover {\n",
              "      background-color: #E2EBFA;\n",
              "      box-shadow: 0px 1px 2px rgba(60, 64, 67, 0.3), 0px 1px 3px 1px rgba(60, 64, 67, 0.15);\n",
              "      fill: #174EA6;\n",
              "    }\n",
              "\n",
              "    [theme=dark] .colab-df-convert {\n",
              "      background-color: #3B4455;\n",
              "      fill: #D2E3FC;\n",
              "    }\n",
              "\n",
              "    [theme=dark] .colab-df-convert:hover {\n",
              "      background-color: #434B5C;\n",
              "      box-shadow: 0px 1px 3px 1px rgba(0, 0, 0, 0.15);\n",
              "      filter: drop-shadow(0px 1px 2px rgba(0, 0, 0, 0.3));\n",
              "      fill: #FFFFFF;\n",
              "    }\n",
              "  </style>\n",
              "\n",
              "      <script>\n",
              "        const buttonEl =\n",
              "          document.querySelector('#df-d548f245-761d-4468-9d0d-1a9d7f59a550 button.colab-df-convert');\n",
              "        buttonEl.style.display =\n",
              "          google.colab.kernel.accessAllowed ? 'block' : 'none';\n",
              "\n",
              "        async function convertToInteractive(key) {\n",
              "          const element = document.querySelector('#df-d548f245-761d-4468-9d0d-1a9d7f59a550');\n",
              "          const dataTable =\n",
              "            await google.colab.kernel.invokeFunction('convertToInteractive',\n",
              "                                                     [key], {});\n",
              "          if (!dataTable) return;\n",
              "\n",
              "          const docLinkHtml = 'Like what you see? Visit the ' +\n",
              "            '<a target=\"_blank\" href=https://colab.research.google.com/notebooks/data_table.ipynb>data table notebook</a>'\n",
              "            + ' to learn more about interactive tables.';\n",
              "          element.innerHTML = '';\n",
              "          dataTable['output_type'] = 'display_data';\n",
              "          await google.colab.output.renderOutput(dataTable, element);\n",
              "          const docLink = document.createElement('div');\n",
              "          docLink.innerHTML = docLinkHtml;\n",
              "          element.appendChild(docLink);\n",
              "        }\n",
              "      </script>\n",
              "    </div>\n",
              "  </div>\n",
              "  "
            ]
          },
          "metadata": {},
          "execution_count": 15
        }
      ]
    },
    {
      "cell_type": "markdown",
      "source": [
        "## Duplicates (Title)"
      ],
      "metadata": {
        "id": "38YE3uBtr89G"
      }
    },
    {
      "cell_type": "code",
      "source": [
        "df[df.duplicated(['title'])]"
      ],
      "metadata": {
        "colab": {
          "base_uri": "https://localhost:8080/",
          "height": 49
        },
        "id": "vqJ9mYJDsJ45",
        "outputId": "8f3732f5-52cb-4b9f-8665-fb72d9d4700d"
      },
      "execution_count": null,
      "outputs": [
        {
          "output_type": "execute_result",
          "data": {
            "text/plain": [
              "Empty DataFrame\n",
              "Columns: [title, text, published, source]\n",
              "Index: []"
            ],
            "text/html": [
              "\n",
              "  <div id=\"df-46e2896a-1509-4a3c-bcc0-bcfbc747d93e\">\n",
              "    <div class=\"colab-df-container\">\n",
              "      <div>\n",
              "<style scoped>\n",
              "    .dataframe tbody tr th:only-of-type {\n",
              "        vertical-align: middle;\n",
              "    }\n",
              "\n",
              "    .dataframe tbody tr th {\n",
              "        vertical-align: top;\n",
              "    }\n",
              "\n",
              "    .dataframe thead th {\n",
              "        text-align: right;\n",
              "    }\n",
              "</style>\n",
              "<table border=\"1\" class=\"dataframe\">\n",
              "  <thead>\n",
              "    <tr style=\"text-align: right;\">\n",
              "      <th></th>\n",
              "      <th>title</th>\n",
              "      <th>text</th>\n",
              "      <th>published</th>\n",
              "      <th>source</th>\n",
              "    </tr>\n",
              "  </thead>\n",
              "  <tbody>\n",
              "  </tbody>\n",
              "</table>\n",
              "</div>\n",
              "      <button class=\"colab-df-convert\" onclick=\"convertToInteractive('df-46e2896a-1509-4a3c-bcc0-bcfbc747d93e')\"\n",
              "              title=\"Convert this dataframe to an interactive table.\"\n",
              "              style=\"display:none;\">\n",
              "        \n",
              "  <svg xmlns=\"http://www.w3.org/2000/svg\" height=\"24px\"viewBox=\"0 0 24 24\"\n",
              "       width=\"24px\">\n",
              "    <path d=\"M0 0h24v24H0V0z\" fill=\"none\"/>\n",
              "    <path d=\"M18.56 5.44l.94 2.06.94-2.06 2.06-.94-2.06-.94-.94-2.06-.94 2.06-2.06.94zm-11 1L8.5 8.5l.94-2.06 2.06-.94-2.06-.94L8.5 2.5l-.94 2.06-2.06.94zm10 10l.94 2.06.94-2.06 2.06-.94-2.06-.94-.94-2.06-.94 2.06-2.06.94z\"/><path d=\"M17.41 7.96l-1.37-1.37c-.4-.4-.92-.59-1.43-.59-.52 0-1.04.2-1.43.59L10.3 9.45l-7.72 7.72c-.78.78-.78 2.05 0 2.83L4 21.41c.39.39.9.59 1.41.59.51 0 1.02-.2 1.41-.59l7.78-7.78 2.81-2.81c.8-.78.8-2.07 0-2.86zM5.41 20L4 18.59l7.72-7.72 1.47 1.35L5.41 20z\"/>\n",
              "  </svg>\n",
              "      </button>\n",
              "      \n",
              "  <style>\n",
              "    .colab-df-container {\n",
              "      display:flex;\n",
              "      flex-wrap:wrap;\n",
              "      gap: 12px;\n",
              "    }\n",
              "\n",
              "    .colab-df-convert {\n",
              "      background-color: #E8F0FE;\n",
              "      border: none;\n",
              "      border-radius: 50%;\n",
              "      cursor: pointer;\n",
              "      display: none;\n",
              "      fill: #1967D2;\n",
              "      height: 32px;\n",
              "      padding: 0 0 0 0;\n",
              "      width: 32px;\n",
              "    }\n",
              "\n",
              "    .colab-df-convert:hover {\n",
              "      background-color: #E2EBFA;\n",
              "      box-shadow: 0px 1px 2px rgba(60, 64, 67, 0.3), 0px 1px 3px 1px rgba(60, 64, 67, 0.15);\n",
              "      fill: #174EA6;\n",
              "    }\n",
              "\n",
              "    [theme=dark] .colab-df-convert {\n",
              "      background-color: #3B4455;\n",
              "      fill: #D2E3FC;\n",
              "    }\n",
              "\n",
              "    [theme=dark] .colab-df-convert:hover {\n",
              "      background-color: #434B5C;\n",
              "      box-shadow: 0px 1px 3px 1px rgba(0, 0, 0, 0.15);\n",
              "      filter: drop-shadow(0px 1px 2px rgba(0, 0, 0, 0.3));\n",
              "      fill: #FFFFFF;\n",
              "    }\n",
              "  </style>\n",
              "\n",
              "      <script>\n",
              "        const buttonEl =\n",
              "          document.querySelector('#df-46e2896a-1509-4a3c-bcc0-bcfbc747d93e button.colab-df-convert');\n",
              "        buttonEl.style.display =\n",
              "          google.colab.kernel.accessAllowed ? 'block' : 'none';\n",
              "\n",
              "        async function convertToInteractive(key) {\n",
              "          const element = document.querySelector('#df-46e2896a-1509-4a3c-bcc0-bcfbc747d93e');\n",
              "          const dataTable =\n",
              "            await google.colab.kernel.invokeFunction('convertToInteractive',\n",
              "                                                     [key], {});\n",
              "          if (!dataTable) return;\n",
              "\n",
              "          const docLinkHtml = 'Like what you see? Visit the ' +\n",
              "            '<a target=\"_blank\" href=https://colab.research.google.com/notebooks/data_table.ipynb>data table notebook</a>'\n",
              "            + ' to learn more about interactive tables.';\n",
              "          element.innerHTML = '';\n",
              "          dataTable['output_type'] = 'display_data';\n",
              "          await google.colab.output.renderOutput(dataTable, element);\n",
              "          const docLink = document.createElement('div');\n",
              "          docLink.innerHTML = docLinkHtml;\n",
              "          element.appendChild(docLink);\n",
              "        }\n",
              "      </script>\n",
              "    </div>\n",
              "  </div>\n",
              "  "
            ]
          },
          "metadata": {},
          "execution_count": 30
        }
      ]
    },
    {
      "cell_type": "code",
      "source": [
        "df.drop_duplicates([\"title\"], keep=\"first\", inplace=True)"
      ],
      "metadata": {
        "id": "SkJ57Klez21h"
      },
      "execution_count": null,
      "outputs": []
    },
    {
      "cell_type": "code",
      "source": [
        "df[df.duplicated(['text'])]"
      ],
      "metadata": {
        "colab": {
          "base_uri": "https://localhost:8080/",
          "height": 49
        },
        "id": "ozY4Y0ySyhTh",
        "outputId": "38e6c09d-c10a-4529-bb75-bcfe09d43870"
      },
      "execution_count": null,
      "outputs": [
        {
          "output_type": "execute_result",
          "data": {
            "text/plain": [
              "Empty DataFrame\n",
              "Columns: [title, text, published, source]\n",
              "Index: []"
            ],
            "text/html": [
              "\n",
              "  <div id=\"df-657253d6-e199-4659-8cce-792ee7cf45b1\">\n",
              "    <div class=\"colab-df-container\">\n",
              "      <div>\n",
              "<style scoped>\n",
              "    .dataframe tbody tr th:only-of-type {\n",
              "        vertical-align: middle;\n",
              "    }\n",
              "\n",
              "    .dataframe tbody tr th {\n",
              "        vertical-align: top;\n",
              "    }\n",
              "\n",
              "    .dataframe thead th {\n",
              "        text-align: right;\n",
              "    }\n",
              "</style>\n",
              "<table border=\"1\" class=\"dataframe\">\n",
              "  <thead>\n",
              "    <tr style=\"text-align: right;\">\n",
              "      <th></th>\n",
              "      <th>title</th>\n",
              "      <th>text</th>\n",
              "      <th>published</th>\n",
              "      <th>source</th>\n",
              "    </tr>\n",
              "  </thead>\n",
              "  <tbody>\n",
              "  </tbody>\n",
              "</table>\n",
              "</div>\n",
              "      <button class=\"colab-df-convert\" onclick=\"convertToInteractive('df-657253d6-e199-4659-8cce-792ee7cf45b1')\"\n",
              "              title=\"Convert this dataframe to an interactive table.\"\n",
              "              style=\"display:none;\">\n",
              "        \n",
              "  <svg xmlns=\"http://www.w3.org/2000/svg\" height=\"24px\"viewBox=\"0 0 24 24\"\n",
              "       width=\"24px\">\n",
              "    <path d=\"M0 0h24v24H0V0z\" fill=\"none\"/>\n",
              "    <path d=\"M18.56 5.44l.94 2.06.94-2.06 2.06-.94-2.06-.94-.94-2.06-.94 2.06-2.06.94zm-11 1L8.5 8.5l.94-2.06 2.06-.94-2.06-.94L8.5 2.5l-.94 2.06-2.06.94zm10 10l.94 2.06.94-2.06 2.06-.94-2.06-.94-.94-2.06-.94 2.06-2.06.94z\"/><path d=\"M17.41 7.96l-1.37-1.37c-.4-.4-.92-.59-1.43-.59-.52 0-1.04.2-1.43.59L10.3 9.45l-7.72 7.72c-.78.78-.78 2.05 0 2.83L4 21.41c.39.39.9.59 1.41.59.51 0 1.02-.2 1.41-.59l7.78-7.78 2.81-2.81c.8-.78.8-2.07 0-2.86zM5.41 20L4 18.59l7.72-7.72 1.47 1.35L5.41 20z\"/>\n",
              "  </svg>\n",
              "      </button>\n",
              "      \n",
              "  <style>\n",
              "    .colab-df-container {\n",
              "      display:flex;\n",
              "      flex-wrap:wrap;\n",
              "      gap: 12px;\n",
              "    }\n",
              "\n",
              "    .colab-df-convert {\n",
              "      background-color: #E8F0FE;\n",
              "      border: none;\n",
              "      border-radius: 50%;\n",
              "      cursor: pointer;\n",
              "      display: none;\n",
              "      fill: #1967D2;\n",
              "      height: 32px;\n",
              "      padding: 0 0 0 0;\n",
              "      width: 32px;\n",
              "    }\n",
              "\n",
              "    .colab-df-convert:hover {\n",
              "      background-color: #E2EBFA;\n",
              "      box-shadow: 0px 1px 2px rgba(60, 64, 67, 0.3), 0px 1px 3px 1px rgba(60, 64, 67, 0.15);\n",
              "      fill: #174EA6;\n",
              "    }\n",
              "\n",
              "    [theme=dark] .colab-df-convert {\n",
              "      background-color: #3B4455;\n",
              "      fill: #D2E3FC;\n",
              "    }\n",
              "\n",
              "    [theme=dark] .colab-df-convert:hover {\n",
              "      background-color: #434B5C;\n",
              "      box-shadow: 0px 1px 3px 1px rgba(0, 0, 0, 0.15);\n",
              "      filter: drop-shadow(0px 1px 2px rgba(0, 0, 0, 0.3));\n",
              "      fill: #FFFFFF;\n",
              "    }\n",
              "  </style>\n",
              "\n",
              "      <script>\n",
              "        const buttonEl =\n",
              "          document.querySelector('#df-657253d6-e199-4659-8cce-792ee7cf45b1 button.colab-df-convert');\n",
              "        buttonEl.style.display =\n",
              "          google.colab.kernel.accessAllowed ? 'block' : 'none';\n",
              "\n",
              "        async function convertToInteractive(key) {\n",
              "          const element = document.querySelector('#df-657253d6-e199-4659-8cce-792ee7cf45b1');\n",
              "          const dataTable =\n",
              "            await google.colab.kernel.invokeFunction('convertToInteractive',\n",
              "                                                     [key], {});\n",
              "          if (!dataTable) return;\n",
              "\n",
              "          const docLinkHtml = 'Like what you see? Visit the ' +\n",
              "            '<a target=\"_blank\" href=https://colab.research.google.com/notebooks/data_table.ipynb>data table notebook</a>'\n",
              "            + ' to learn more about interactive tables.';\n",
              "          element.innerHTML = '';\n",
              "          dataTable['output_type'] = 'display_data';\n",
              "          await google.colab.output.renderOutput(dataTable, element);\n",
              "          const docLink = document.createElement('div');\n",
              "          docLink.innerHTML = docLinkHtml;\n",
              "          element.appendChild(docLink);\n",
              "        }\n",
              "      </script>\n",
              "    </div>\n",
              "  </div>\n",
              "  "
            ]
          },
          "metadata": {},
          "execution_count": 35
        }
      ]
    },
    {
      "cell_type": "code",
      "source": [
        "df.drop_duplicates([\"text\"], keep=\"first\", inplace=True)"
      ],
      "metadata": {
        "id": "ikWWaX1e0DTl"
      },
      "execution_count": null,
      "outputs": []
    },
    {
      "cell_type": "code",
      "source": [
        "df"
      ],
      "metadata": {
        "colab": {
          "base_uri": "https://localhost:8080/",
          "height": 423
        },
        "id": "tN_XQdly0Fyp",
        "outputId": "f36ad2cb-59ec-4f77-a909-caa026c8355e"
      },
      "execution_count": null,
      "outputs": [
        {
          "output_type": "execute_result",
          "data": {
            "text/plain": [
              "                                                    title  \\\n",
              "0       Warum nicht mal die Russen Putins Impfstoff wo...   \n",
              "2       Welternährungsprogramm erhält den Friedensnobe...   \n",
              "4       In welchen deutschen Großstädten die Lage krit...   \n",
              "7       Klopp beschreibt den Moment, als er vom Liverp...   \n",
              "8       Das beste FIFA aller Zeiten – mit einem großen...   \n",
              "...                                                   ...   \n",
              "174934              Jahrmarkt fällt Coronavirus zum Opfer   \n",
              "174935  Jubiläum mit Feierstunde „open air“ gewürdigt:...   \n",
              "174936   Finanzamt: Ab 1. Dezember Goslar-Bad Gandersheim   \n",
              "174937  Corona-Ferienpass: Stadtjugendpfleger zieht Er...   \n",
              "174938  Freibadsaison im Waldschwimmbad Düderode endet...   \n",
              "\n",
              "                                                     text   published  \\\n",
              "0       Im Kreml sollte es in diesen Tagen eigentlich ...  1602234820   \n",
              "2       Der Preis setze ein Zeichen für die Millionen ...  1602234160   \n",
              "4       Die Kanzlerin berät mit den Bürgermeistern der...  1602233883   \n",
              "7       Anzeige\\n\\nWie die Zeit vergeht, merkt auch er...  1602233011   \n",
              "8       Anzeige\\n\\nDie Corona-Krise hat auch vor dem e...  1602232402   \n",
              "...                                                   ...         ...   \n",
              "174934  04.09.2020 | 05:41\\n\\nGreene. „Bis zuletzt hab...  1599198060   \n",
              "174935  03.09.2020 | 20:42\\n\\nWillershausen. Das 100-j...  1599165720   \n",
              "174936  Bad Gandersheim. Die Entwicklung ist bereits i...  1599112440   \n",
              "174937  03.09.2020 | 05:53\\n\\nBad Gandersheim. Das war...  1599112380   \n",
              "174938  03.09.2020 | 05:52\\n\\nDüderode. Eine nicht nur...  1599112320   \n",
              "\n",
              "                          source  \n",
              "0                           welt  \n",
              "2                           welt  \n",
              "4                           welt  \n",
              "7                           welt  \n",
              "8                           welt  \n",
              "...                          ...  \n",
              "174934  gandersheimer-kreisblatt  \n",
              "174935  gandersheimer-kreisblatt  \n",
              "174936  gandersheimer-kreisblatt  \n",
              "174937  gandersheimer-kreisblatt  \n",
              "174938  gandersheimer-kreisblatt  \n",
              "\n",
              "[144741 rows x 4 columns]"
            ],
            "text/html": [
              "\n",
              "  <div id=\"df-72fdff09-c179-4f9f-b40d-f8ef0a19fad7\">\n",
              "    <div class=\"colab-df-container\">\n",
              "      <div>\n",
              "<style scoped>\n",
              "    .dataframe tbody tr th:only-of-type {\n",
              "        vertical-align: middle;\n",
              "    }\n",
              "\n",
              "    .dataframe tbody tr th {\n",
              "        vertical-align: top;\n",
              "    }\n",
              "\n",
              "    .dataframe thead th {\n",
              "        text-align: right;\n",
              "    }\n",
              "</style>\n",
              "<table border=\"1\" class=\"dataframe\">\n",
              "  <thead>\n",
              "    <tr style=\"text-align: right;\">\n",
              "      <th></th>\n",
              "      <th>title</th>\n",
              "      <th>text</th>\n",
              "      <th>published</th>\n",
              "      <th>source</th>\n",
              "    </tr>\n",
              "  </thead>\n",
              "  <tbody>\n",
              "    <tr>\n",
              "      <th>0</th>\n",
              "      <td>Warum nicht mal die Russen Putins Impfstoff wo...</td>\n",
              "      <td>Im Kreml sollte es in diesen Tagen eigentlich ...</td>\n",
              "      <td>1602234820</td>\n",
              "      <td>welt</td>\n",
              "    </tr>\n",
              "    <tr>\n",
              "      <th>2</th>\n",
              "      <td>Welternährungsprogramm erhält den Friedensnobe...</td>\n",
              "      <td>Der Preis setze ein Zeichen für die Millionen ...</td>\n",
              "      <td>1602234160</td>\n",
              "      <td>welt</td>\n",
              "    </tr>\n",
              "    <tr>\n",
              "      <th>4</th>\n",
              "      <td>In welchen deutschen Großstädten die Lage krit...</td>\n",
              "      <td>Die Kanzlerin berät mit den Bürgermeistern der...</td>\n",
              "      <td>1602233883</td>\n",
              "      <td>welt</td>\n",
              "    </tr>\n",
              "    <tr>\n",
              "      <th>7</th>\n",
              "      <td>Klopp beschreibt den Moment, als er vom Liverp...</td>\n",
              "      <td>Anzeige\\n\\nWie die Zeit vergeht, merkt auch er...</td>\n",
              "      <td>1602233011</td>\n",
              "      <td>welt</td>\n",
              "    </tr>\n",
              "    <tr>\n",
              "      <th>8</th>\n",
              "      <td>Das beste FIFA aller Zeiten – mit einem großen...</td>\n",
              "      <td>Anzeige\\n\\nDie Corona-Krise hat auch vor dem e...</td>\n",
              "      <td>1602232402</td>\n",
              "      <td>welt</td>\n",
              "    </tr>\n",
              "    <tr>\n",
              "      <th>...</th>\n",
              "      <td>...</td>\n",
              "      <td>...</td>\n",
              "      <td>...</td>\n",
              "      <td>...</td>\n",
              "    </tr>\n",
              "    <tr>\n",
              "      <th>174934</th>\n",
              "      <td>Jahrmarkt fällt Coronavirus zum Opfer</td>\n",
              "      <td>04.09.2020 | 05:41\\n\\nGreene. „Bis zuletzt hab...</td>\n",
              "      <td>1599198060</td>\n",
              "      <td>gandersheimer-kreisblatt</td>\n",
              "    </tr>\n",
              "    <tr>\n",
              "      <th>174935</th>\n",
              "      <td>Jubiläum mit Feierstunde „open air“ gewürdigt:...</td>\n",
              "      <td>03.09.2020 | 20:42\\n\\nWillershausen. Das 100-j...</td>\n",
              "      <td>1599165720</td>\n",
              "      <td>gandersheimer-kreisblatt</td>\n",
              "    </tr>\n",
              "    <tr>\n",
              "      <th>174936</th>\n",
              "      <td>Finanzamt: Ab 1. Dezember Goslar-Bad Gandersheim</td>\n",
              "      <td>Bad Gandersheim. Die Entwicklung ist bereits i...</td>\n",
              "      <td>1599112440</td>\n",
              "      <td>gandersheimer-kreisblatt</td>\n",
              "    </tr>\n",
              "    <tr>\n",
              "      <th>174937</th>\n",
              "      <td>Corona-Ferienpass: Stadtjugendpfleger zieht Er...</td>\n",
              "      <td>03.09.2020 | 05:53\\n\\nBad Gandersheim. Das war...</td>\n",
              "      <td>1599112380</td>\n",
              "      <td>gandersheimer-kreisblatt</td>\n",
              "    </tr>\n",
              "    <tr>\n",
              "      <th>174938</th>\n",
              "      <td>Freibadsaison im Waldschwimmbad Düderode endet...</td>\n",
              "      <td>03.09.2020 | 05:52\\n\\nDüderode. Eine nicht nur...</td>\n",
              "      <td>1599112320</td>\n",
              "      <td>gandersheimer-kreisblatt</td>\n",
              "    </tr>\n",
              "  </tbody>\n",
              "</table>\n",
              "<p>144741 rows × 4 columns</p>\n",
              "</div>\n",
              "      <button class=\"colab-df-convert\" onclick=\"convertToInteractive('df-72fdff09-c179-4f9f-b40d-f8ef0a19fad7')\"\n",
              "              title=\"Convert this dataframe to an interactive table.\"\n",
              "              style=\"display:none;\">\n",
              "        \n",
              "  <svg xmlns=\"http://www.w3.org/2000/svg\" height=\"24px\"viewBox=\"0 0 24 24\"\n",
              "       width=\"24px\">\n",
              "    <path d=\"M0 0h24v24H0V0z\" fill=\"none\"/>\n",
              "    <path d=\"M18.56 5.44l.94 2.06.94-2.06 2.06-.94-2.06-.94-.94-2.06-.94 2.06-2.06.94zm-11 1L8.5 8.5l.94-2.06 2.06-.94-2.06-.94L8.5 2.5l-.94 2.06-2.06.94zm10 10l.94 2.06.94-2.06 2.06-.94-2.06-.94-.94-2.06-.94 2.06-2.06.94z\"/><path d=\"M17.41 7.96l-1.37-1.37c-.4-.4-.92-.59-1.43-.59-.52 0-1.04.2-1.43.59L10.3 9.45l-7.72 7.72c-.78.78-.78 2.05 0 2.83L4 21.41c.39.39.9.59 1.41.59.51 0 1.02-.2 1.41-.59l7.78-7.78 2.81-2.81c.8-.78.8-2.07 0-2.86zM5.41 20L4 18.59l7.72-7.72 1.47 1.35L5.41 20z\"/>\n",
              "  </svg>\n",
              "      </button>\n",
              "      \n",
              "  <style>\n",
              "    .colab-df-container {\n",
              "      display:flex;\n",
              "      flex-wrap:wrap;\n",
              "      gap: 12px;\n",
              "    }\n",
              "\n",
              "    .colab-df-convert {\n",
              "      background-color: #E8F0FE;\n",
              "      border: none;\n",
              "      border-radius: 50%;\n",
              "      cursor: pointer;\n",
              "      display: none;\n",
              "      fill: #1967D2;\n",
              "      height: 32px;\n",
              "      padding: 0 0 0 0;\n",
              "      width: 32px;\n",
              "    }\n",
              "\n",
              "    .colab-df-convert:hover {\n",
              "      background-color: #E2EBFA;\n",
              "      box-shadow: 0px 1px 2px rgba(60, 64, 67, 0.3), 0px 1px 3px 1px rgba(60, 64, 67, 0.15);\n",
              "      fill: #174EA6;\n",
              "    }\n",
              "\n",
              "    [theme=dark] .colab-df-convert {\n",
              "      background-color: #3B4455;\n",
              "      fill: #D2E3FC;\n",
              "    }\n",
              "\n",
              "    [theme=dark] .colab-df-convert:hover {\n",
              "      background-color: #434B5C;\n",
              "      box-shadow: 0px 1px 3px 1px rgba(0, 0, 0, 0.15);\n",
              "      filter: drop-shadow(0px 1px 2px rgba(0, 0, 0, 0.3));\n",
              "      fill: #FFFFFF;\n",
              "    }\n",
              "  </style>\n",
              "\n",
              "      <script>\n",
              "        const buttonEl =\n",
              "          document.querySelector('#df-72fdff09-c179-4f9f-b40d-f8ef0a19fad7 button.colab-df-convert');\n",
              "        buttonEl.style.display =\n",
              "          google.colab.kernel.accessAllowed ? 'block' : 'none';\n",
              "\n",
              "        async function convertToInteractive(key) {\n",
              "          const element = document.querySelector('#df-72fdff09-c179-4f9f-b40d-f8ef0a19fad7');\n",
              "          const dataTable =\n",
              "            await google.colab.kernel.invokeFunction('convertToInteractive',\n",
              "                                                     [key], {});\n",
              "          if (!dataTable) return;\n",
              "\n",
              "          const docLinkHtml = 'Like what you see? Visit the ' +\n",
              "            '<a target=\"_blank\" href=https://colab.research.google.com/notebooks/data_table.ipynb>data table notebook</a>'\n",
              "            + ' to learn more about interactive tables.';\n",
              "          element.innerHTML = '';\n",
              "          dataTable['output_type'] = 'display_data';\n",
              "          await google.colab.output.renderOutput(dataTable, element);\n",
              "          const docLink = document.createElement('div');\n",
              "          docLink.innerHTML = docLinkHtml;\n",
              "          element.appendChild(docLink);\n",
              "        }\n",
              "      </script>\n",
              "    </div>\n",
              "  </div>\n",
              "  "
            ]
          },
          "metadata": {},
          "execution_count": 34
        }
      ]
    },
    {
      "cell_type": "code",
      "source": [],
      "metadata": {
        "id": "1wj0AiUQ0K7U"
      },
      "execution_count": null,
      "outputs": []
    },
    {
      "cell_type": "markdown",
      "source": [
        "## Sample Quality Check"
      ],
      "metadata": {
        "id": "RXpWrwv10LfJ"
      }
    },
    {
      "cell_type": "code",
      "source": [
        "pd.set_option('display.max_colwidth', None)"
      ],
      "metadata": {
        "id": "EukYBc_9izW1"
      },
      "execution_count": null,
      "outputs": []
    },
    {
      "cell_type": "code",
      "source": [
        "df[\"title\"].sample(25)"
      ],
      "metadata": {
        "colab": {
          "base_uri": "https://localhost:8080/"
        },
        "id": "r4yCnPzR0NoO",
        "outputId": "77229926-6fe3-4b6a-faac-3eb6f4e90c14"
      },
      "execution_count": null,
      "outputs": [
        {
          "output_type": "execute_result",
          "data": {
            "text/plain": [
              "117021                       *** BILDplus Inhalt *** Bayern-Noten zum Supercup - Eine Eins – aber für Alaba gibt’s die 4\n",
              "50330                                                           Mit neuen Öffnungszeiten: Hamburger Fischmarkt gerettet!\n",
              "75265                                                                                     Luxusmakler: Reich sucht schön\n",
              "6414                                                                          Der Machtkampf zwischen zwei Top-Anklägern\n",
              "164701                                                                               Coronavirus: Ein ganzes halbes Jahr\n",
              "82726                                           Nationalfeiertag mit Laschet und Spahn: Frankreich ehrt besondere Helden\n",
              "4159                                                                               Elon Musk bekommt Axel Springer Award\n",
              "66053                                                      Vereinigte Staaten: Was der Börsengang Curevac bringen könnte\n",
              "51136                                                       MOPO-Herbstwanderung: Auf Schusters Rappen durch die Heimat!\n",
              "32715          Sibirien brennt - 38-Grad-Superschmelze in der Arktis: Polarfront-Jet löst rätselhaftes Klimaphänomen aus\n",
              "144647                                                 Donald Trump über Demokraten: \"Sie versuchen die Wahl zu stehlen\"\n",
              "80076                                                  Netflix in der Kritik: Sexualisierung von minderjährigen Mädchen?\n",
              "39994                                                                               Dänemark lockert die Grenzkontrollen\n",
              "145662                                                     Barack Obama beschreibt Donald Trump als \"völlig hemmungslos\"\n",
              "66160                                                            Augsburg: Prozess nach tödlicher Attacke am Königsplatz\n",
              "142920                                                   Städtetag kritisiert weitere Warnstreiks im öffentlichen Dienst\n",
              "32204     Von wegen „Graue Maus“ - Skurril: NBA-Star trägt antik-knalliges Kult-Trikot des VfL Bochum als Mode-Statement\n",
              "110954                                                    In Deutschland wächst eine Generation der Nichtschwimmer heran\n",
              "57068                                                                       Bericht: 85 Kitas von Schließungen betroffen\n",
              "54782                                                               Dortmund setzt zum Saisonauftakt ein starkes Zeichen\n",
              "74288                                                               Urteil in Augsburg: Was passiert ist - und was nicht\n",
              "78180                                    Digitale Fernprüfung: Drittel eines Hochschulkurses schreibt ab und fällt durch\n",
              "66155                                                                Kempten: Die B 12 ist der schnellste Weg ins Allgäu\n",
              "160091                                                                      Unachtsam abgebogen, 20 000 Euro Sachschaden\n",
              "97889                             Nach Tod von Jugendspieler: Klub äußert sich – Nachbar-Verein startet besondere Aktion\n",
              "Name: title, dtype: object"
            ]
          },
          "metadata": {},
          "execution_count": 59
        }
      ]
    },
    {
      "cell_type": "code",
      "source": [
        "df[\"title\"].str.count(\"&#034;\").sum()"
      ],
      "metadata": {
        "colab": {
          "base_uri": "https://localhost:8080/"
        },
        "id": "tLqhBab-0LQR",
        "outputId": "98492724-e461-4aae-f841-0c88c3e24fa7"
      },
      "execution_count": null,
      "outputs": [
        {
          "output_type": "execute_result",
          "data": {
            "text/plain": [
              "3762"
            ]
          },
          "metadata": {},
          "execution_count": 38
        }
      ]
    },
    {
      "cell_type": "markdown",
      "source": [
        "Found some HTML Chars in title col"
      ],
      "metadata": {
        "id": "n3v-qgu61RCL"
      }
    },
    {
      "cell_type": "code",
      "source": [
        "df['title'] = df['title'].str.replace('&#034;','\"')"
      ],
      "metadata": {
        "id": "A_BrBGNv1ANz"
      },
      "execution_count": null,
      "outputs": []
    },
    {
      "cell_type": "markdown",
      "source": [
        "Found some trainling and leading spaces and strip them"
      ],
      "metadata": {
        "id": "uFuUbWWB2CZR"
      }
    },
    {
      "cell_type": "code",
      "source": [
        "df['title'] = df[\"title\"].str.strip()"
      ],
      "metadata": {
        "id": "HwzRuioO1zXC"
      },
      "execution_count": null,
      "outputs": []
    },
    {
      "cell_type": "markdown",
      "source": [
        "Found \"\\*\\*\\* BILDplus Inhalt \\*\\*\\*\" and removing it from title"
      ],
      "metadata": {
        "id": "UwAwND6J3LC7"
      }
    },
    {
      "cell_type": "code",
      "source": [
        "df[\"title\"].str.count(\"\\*\\*\\* BILDplus Inhalt \\*\\*\\*\").sum()"
      ],
      "metadata": {
        "colab": {
          "base_uri": "https://localhost:8080/"
        },
        "id": "3K68W2Av2O6J",
        "outputId": "acf2b910-8f11-4f73-b89e-55f56a6b420b"
      },
      "execution_count": null,
      "outputs": [
        {
          "output_type": "execute_result",
          "data": {
            "text/plain": [
              "5014"
            ]
          },
          "metadata": {},
          "execution_count": 39
        }
      ]
    },
    {
      "cell_type": "code",
      "source": [
        "df['title'] = df['title'].str.replace(\"\\*\\*\\* BILDplus Inhalt \\*\\*\\*\",'', regex=True)"
      ],
      "metadata": {
        "id": "Vvi3AawB3R7z"
      },
      "execution_count": null,
      "outputs": []
    },
    {
      "cell_type": "code",
      "source": [
        "df[\"title\"].str.count(\"<\").sum()"
      ],
      "metadata": {
        "colab": {
          "base_uri": "https://localhost:8080/"
        },
        "id": "-qs3wlwk5JqO",
        "outputId": "e12dae5e-f72a-48ca-ad1b-31e48ef5f3e5"
      },
      "execution_count": null,
      "outputs": [
        {
          "output_type": "execute_result",
          "data": {
            "text/plain": [
              "267"
            ]
          },
          "metadata": {},
          "execution_count": 40
        }
      ]
    },
    {
      "cell_type": "code",
      "source": [
        "df[\"title\"].str.count(\">\").sum()"
      ],
      "metadata": {
        "colab": {
          "base_uri": "https://localhost:8080/"
        },
        "id": "Mo6nN2NoiJlu",
        "outputId": "cff91af2-a8bf-4a57-a6cd-d5fe6a524dc2"
      },
      "execution_count": null,
      "outputs": [
        {
          "output_type": "execute_result",
          "data": {
            "text/plain": [
              "275"
            ]
          },
          "metadata": {},
          "execution_count": 42
        }
      ]
    },
    {
      "cell_type": "code",
      "source": [
        "df[\"title\"].str.count(\"&\").sum()"
      ],
      "metadata": {
        "colab": {
          "base_uri": "https://localhost:8080/"
        },
        "id": "_fhLNut25-WX",
        "outputId": "e5e5fea6-5c6e-47c9-a9ad-7b160dd3710e"
      },
      "execution_count": null,
      "outputs": [
        {
          "output_type": "execute_result",
          "data": {
            "text/plain": [
              "920"
            ]
          },
          "metadata": {},
          "execution_count": 50
        }
      ]
    },
    {
      "cell_type": "code",
      "source": [
        "df[\"title\"].str.count(\"heise+\").sum()"
      ],
      "metadata": {
        "colab": {
          "base_uri": "https://localhost:8080/"
        },
        "id": "KBNcoYf86LBJ",
        "outputId": "8f48ff17-ae82-48f7-c9b8-cdbb0c156154"
      },
      "execution_count": null,
      "outputs": [
        {
          "output_type": "execute_result",
          "data": {
            "text/plain": [
              "799"
            ]
          },
          "metadata": {},
          "execution_count": 41
        }
      ]
    },
    {
      "cell_type": "code",
      "source": [
        "df['title'] = df['title'].str.replace(\"heise+ | \",'', regex=True)"
      ],
      "metadata": {
        "id": "_E1E1ac56S3I"
      },
      "execution_count": null,
      "outputs": []
    }
  ]
}