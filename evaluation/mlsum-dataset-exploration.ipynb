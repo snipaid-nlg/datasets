{
  "nbformat": 4,
  "nbformat_minor": 0,
  "metadata": {
    "colab": {
      "provenance": [],
      "include_colab_link": true
    },
    "kernelspec": {
      "name": "python3",
      "display_name": "Python 3"
    },
    "language_info": {
      "name": "python"
    },
    "widgets": {
      "application/vnd.jupyter.widget-state+json": {
        "90ef707a4b8f43839a0ef7f3c1cfede0": {
          "model_module": "@jupyter-widgets/controls",
          "model_name": "HBoxModel",
          "model_module_version": "1.5.0",
          "state": {
            "_dom_classes": [],
            "_model_module": "@jupyter-widgets/controls",
            "_model_module_version": "1.5.0",
            "_model_name": "HBoxModel",
            "_view_count": null,
            "_view_module": "@jupyter-widgets/controls",
            "_view_module_version": "1.5.0",
            "_view_name": "HBoxView",
            "box_style": "",
            "children": [
              "IPY_MODEL_d55dd2ce5f924277a237b780e1730888",
              "IPY_MODEL_e3c72b692c33436f948ebe056ccb3c0b",
              "IPY_MODEL_fd913ae4e85d4bbfb6bd5dbdc82d0b7a"
            ],
            "layout": "IPY_MODEL_b7d568ae25f54d648e56bf2b4ee41a3e"
          }
        },
        "d55dd2ce5f924277a237b780e1730888": {
          "model_module": "@jupyter-widgets/controls",
          "model_name": "HTMLModel",
          "model_module_version": "1.5.0",
          "state": {
            "_dom_classes": [],
            "_model_module": "@jupyter-widgets/controls",
            "_model_module_version": "1.5.0",
            "_model_name": "HTMLModel",
            "_view_count": null,
            "_view_module": "@jupyter-widgets/controls",
            "_view_module_version": "1.5.0",
            "_view_name": "HTMLView",
            "description": "",
            "description_tooltip": null,
            "layout": "IPY_MODEL_52c29c7b87cb42dfb09ca0aac84ffe08",
            "placeholder": "​",
            "style": "IPY_MODEL_110dd3f2c54641949b10af08b00acfb8",
            "value": "100%"
          }
        },
        "e3c72b692c33436f948ebe056ccb3c0b": {
          "model_module": "@jupyter-widgets/controls",
          "model_name": "FloatProgressModel",
          "model_module_version": "1.5.0",
          "state": {
            "_dom_classes": [],
            "_model_module": "@jupyter-widgets/controls",
            "_model_module_version": "1.5.0",
            "_model_name": "FloatProgressModel",
            "_view_count": null,
            "_view_module": "@jupyter-widgets/controls",
            "_view_module_version": "1.5.0",
            "_view_name": "ProgressView",
            "bar_style": "success",
            "description": "",
            "description_tooltip": null,
            "layout": "IPY_MODEL_885b098940b546a2b7d7915b01f4a3b5",
            "max": 3,
            "min": 0,
            "orientation": "horizontal",
            "style": "IPY_MODEL_01db76aae3f948af9a78519497af3e77",
            "value": 3
          }
        },
        "fd913ae4e85d4bbfb6bd5dbdc82d0b7a": {
          "model_module": "@jupyter-widgets/controls",
          "model_name": "HTMLModel",
          "model_module_version": "1.5.0",
          "state": {
            "_dom_classes": [],
            "_model_module": "@jupyter-widgets/controls",
            "_model_module_version": "1.5.0",
            "_model_name": "HTMLModel",
            "_view_count": null,
            "_view_module": "@jupyter-widgets/controls",
            "_view_module_version": "1.5.0",
            "_view_name": "HTMLView",
            "description": "",
            "description_tooltip": null,
            "layout": "IPY_MODEL_195d3d2d4f00421f99c78d491225cee7",
            "placeholder": "​",
            "style": "IPY_MODEL_3857ca06d383491097ba939d32ba9541",
            "value": " 3/3 [00:00&lt;00:00,  9.79it/s]"
          }
        },
        "b7d568ae25f54d648e56bf2b4ee41a3e": {
          "model_module": "@jupyter-widgets/base",
          "model_name": "LayoutModel",
          "model_module_version": "1.2.0",
          "state": {
            "_model_module": "@jupyter-widgets/base",
            "_model_module_version": "1.2.0",
            "_model_name": "LayoutModel",
            "_view_count": null,
            "_view_module": "@jupyter-widgets/base",
            "_view_module_version": "1.2.0",
            "_view_name": "LayoutView",
            "align_content": null,
            "align_items": null,
            "align_self": null,
            "border": null,
            "bottom": null,
            "display": null,
            "flex": null,
            "flex_flow": null,
            "grid_area": null,
            "grid_auto_columns": null,
            "grid_auto_flow": null,
            "grid_auto_rows": null,
            "grid_column": null,
            "grid_gap": null,
            "grid_row": null,
            "grid_template_areas": null,
            "grid_template_columns": null,
            "grid_template_rows": null,
            "height": null,
            "justify_content": null,
            "justify_items": null,
            "left": null,
            "margin": null,
            "max_height": null,
            "max_width": null,
            "min_height": null,
            "min_width": null,
            "object_fit": null,
            "object_position": null,
            "order": null,
            "overflow": null,
            "overflow_x": null,
            "overflow_y": null,
            "padding": null,
            "right": null,
            "top": null,
            "visibility": null,
            "width": null
          }
        },
        "52c29c7b87cb42dfb09ca0aac84ffe08": {
          "model_module": "@jupyter-widgets/base",
          "model_name": "LayoutModel",
          "model_module_version": "1.2.0",
          "state": {
            "_model_module": "@jupyter-widgets/base",
            "_model_module_version": "1.2.0",
            "_model_name": "LayoutModel",
            "_view_count": null,
            "_view_module": "@jupyter-widgets/base",
            "_view_module_version": "1.2.0",
            "_view_name": "LayoutView",
            "align_content": null,
            "align_items": null,
            "align_self": null,
            "border": null,
            "bottom": null,
            "display": null,
            "flex": null,
            "flex_flow": null,
            "grid_area": null,
            "grid_auto_columns": null,
            "grid_auto_flow": null,
            "grid_auto_rows": null,
            "grid_column": null,
            "grid_gap": null,
            "grid_row": null,
            "grid_template_areas": null,
            "grid_template_columns": null,
            "grid_template_rows": null,
            "height": null,
            "justify_content": null,
            "justify_items": null,
            "left": null,
            "margin": null,
            "max_height": null,
            "max_width": null,
            "min_height": null,
            "min_width": null,
            "object_fit": null,
            "object_position": null,
            "order": null,
            "overflow": null,
            "overflow_x": null,
            "overflow_y": null,
            "padding": null,
            "right": null,
            "top": null,
            "visibility": null,
            "width": null
          }
        },
        "110dd3f2c54641949b10af08b00acfb8": {
          "model_module": "@jupyter-widgets/controls",
          "model_name": "DescriptionStyleModel",
          "model_module_version": "1.5.0",
          "state": {
            "_model_module": "@jupyter-widgets/controls",
            "_model_module_version": "1.5.0",
            "_model_name": "DescriptionStyleModel",
            "_view_count": null,
            "_view_module": "@jupyter-widgets/base",
            "_view_module_version": "1.2.0",
            "_view_name": "StyleView",
            "description_width": ""
          }
        },
        "885b098940b546a2b7d7915b01f4a3b5": {
          "model_module": "@jupyter-widgets/base",
          "model_name": "LayoutModel",
          "model_module_version": "1.2.0",
          "state": {
            "_model_module": "@jupyter-widgets/base",
            "_model_module_version": "1.2.0",
            "_model_name": "LayoutModel",
            "_view_count": null,
            "_view_module": "@jupyter-widgets/base",
            "_view_module_version": "1.2.0",
            "_view_name": "LayoutView",
            "align_content": null,
            "align_items": null,
            "align_self": null,
            "border": null,
            "bottom": null,
            "display": null,
            "flex": null,
            "flex_flow": null,
            "grid_area": null,
            "grid_auto_columns": null,
            "grid_auto_flow": null,
            "grid_auto_rows": null,
            "grid_column": null,
            "grid_gap": null,
            "grid_row": null,
            "grid_template_areas": null,
            "grid_template_columns": null,
            "grid_template_rows": null,
            "height": null,
            "justify_content": null,
            "justify_items": null,
            "left": null,
            "margin": null,
            "max_height": null,
            "max_width": null,
            "min_height": null,
            "min_width": null,
            "object_fit": null,
            "object_position": null,
            "order": null,
            "overflow": null,
            "overflow_x": null,
            "overflow_y": null,
            "padding": null,
            "right": null,
            "top": null,
            "visibility": null,
            "width": null
          }
        },
        "01db76aae3f948af9a78519497af3e77": {
          "model_module": "@jupyter-widgets/controls",
          "model_name": "ProgressStyleModel",
          "model_module_version": "1.5.0",
          "state": {
            "_model_module": "@jupyter-widgets/controls",
            "_model_module_version": "1.5.0",
            "_model_name": "ProgressStyleModel",
            "_view_count": null,
            "_view_module": "@jupyter-widgets/base",
            "_view_module_version": "1.2.0",
            "_view_name": "StyleView",
            "bar_color": null,
            "description_width": ""
          }
        },
        "195d3d2d4f00421f99c78d491225cee7": {
          "model_module": "@jupyter-widgets/base",
          "model_name": "LayoutModel",
          "model_module_version": "1.2.0",
          "state": {
            "_model_module": "@jupyter-widgets/base",
            "_model_module_version": "1.2.0",
            "_model_name": "LayoutModel",
            "_view_count": null,
            "_view_module": "@jupyter-widgets/base",
            "_view_module_version": "1.2.0",
            "_view_name": "LayoutView",
            "align_content": null,
            "align_items": null,
            "align_self": null,
            "border": null,
            "bottom": null,
            "display": null,
            "flex": null,
            "flex_flow": null,
            "grid_area": null,
            "grid_auto_columns": null,
            "grid_auto_flow": null,
            "grid_auto_rows": null,
            "grid_column": null,
            "grid_gap": null,
            "grid_row": null,
            "grid_template_areas": null,
            "grid_template_columns": null,
            "grid_template_rows": null,
            "height": null,
            "justify_content": null,
            "justify_items": null,
            "left": null,
            "margin": null,
            "max_height": null,
            "max_width": null,
            "min_height": null,
            "min_width": null,
            "object_fit": null,
            "object_position": null,
            "order": null,
            "overflow": null,
            "overflow_x": null,
            "overflow_y": null,
            "padding": null,
            "right": null,
            "top": null,
            "visibility": null,
            "width": null
          }
        },
        "3857ca06d383491097ba939d32ba9541": {
          "model_module": "@jupyter-widgets/controls",
          "model_name": "DescriptionStyleModel",
          "model_module_version": "1.5.0",
          "state": {
            "_model_module": "@jupyter-widgets/controls",
            "_model_module_version": "1.5.0",
            "_model_name": "DescriptionStyleModel",
            "_view_count": null,
            "_view_module": "@jupyter-widgets/base",
            "_view_module_version": "1.2.0",
            "_view_name": "StyleView",
            "description_width": ""
          }
        }
      }
    }
  },
  "cells": [
    {
      "cell_type": "markdown",
      "metadata": {
        "id": "view-in-github",
        "colab_type": "text"
      },
      "source": [
        "<a href=\"https://colab.research.google.com/github/snipaid-nlg/datasets/blob/main/evaluation/mlsum-dataset-exploration.ipynb\" target=\"_parent\"><img src=\"https://colab.research.google.com/assets/colab-badge.svg\" alt=\"Open In Colab\"/></a>"
      ]
    },
    {
      "cell_type": "markdown",
      "source": [
        "# MLSUM Dataset Exploration"
      ],
      "metadata": {
        "id": "hrVzERejD3Zs"
      }
    },
    {
      "cell_type": "code",
      "execution_count": null,
      "metadata": {
        "colab": {
          "base_uri": "https://localhost:8080/"
        },
        "id": "Wichor8OG3Lj",
        "outputId": "0f682f8f-a1a3-49f9-b5d5-8f36ada278da"
      },
      "outputs": [
        {
          "output_type": "stream",
          "name": "stdout",
          "text": [
            "\u001b[2K     \u001b[90m━━━━━━━━━━━━━━━━━━━━━━━━━━━━━━━━━━━━━━━\u001b[0m \u001b[32m469.0/469.0 KB\u001b[0m \u001b[31m6.5 MB/s\u001b[0m eta \u001b[36m0:00:00\u001b[0m\n",
            "\u001b[2K     \u001b[90m━━━━━━━━━━━━━━━━━━━━━━━━━━━━━━━━━━━━━━━\u001b[0m \u001b[32m132.0/132.0 KB\u001b[0m \u001b[31m8.4 MB/s\u001b[0m eta \u001b[36m0:00:00\u001b[0m\n",
            "\u001b[2K     \u001b[90m━━━━━━━━━━━━━━━━━━━━━━━━━━━━━━━━━━━━━━\u001b[0m \u001b[32m190.3/190.3 KB\u001b[0m \u001b[31m11.8 MB/s\u001b[0m eta \u001b[36m0:00:00\u001b[0m\n",
            "\u001b[2K     \u001b[90m━━━━━━━━━━━━━━━━━━━━━━━━━━━━━━━━━━━━━━\u001b[0m \u001b[32m213.0/213.0 KB\u001b[0m \u001b[31m12.9 MB/s\u001b[0m eta \u001b[36m0:00:00\u001b[0m\n",
            "\u001b[2K     \u001b[90m━━━━━━━━━━━━━━━━━━━━━━━━━━━━━━━━━━━━━━━\u001b[0m \u001b[32m140.6/140.6 KB\u001b[0m \u001b[31m4.2 MB/s\u001b[0m eta \u001b[36m0:00:00\u001b[0m\n",
            "\u001b[?25h"
          ]
        }
      ],
      "source": [
        "!pip install -q datasets"
      ]
    },
    {
      "cell_type": "code",
      "source": [
        "from datasets import load_dataset\n",
        "from tqdm import tqdm"
      ],
      "metadata": {
        "id": "d-VmyebRG7ks"
      },
      "execution_count": null,
      "outputs": []
    },
    {
      "cell_type": "markdown",
      "source": [
        "Loading the dataset from Huggingface"
      ],
      "metadata": {
        "id": "sS2r9QG1EBa0"
      }
    },
    {
      "cell_type": "code",
      "source": [
        "dataset = load_dataset(\"mlsum\", name=\"de\")\n",
        "dataset"
      ],
      "metadata": {
        "colab": {
          "base_uri": "https://localhost:8080/",
          "height": 309,
          "referenced_widgets": [
            "90ef707a4b8f43839a0ef7f3c1cfede0",
            "d55dd2ce5f924277a237b780e1730888",
            "e3c72b692c33436f948ebe056ccb3c0b",
            "fd913ae4e85d4bbfb6bd5dbdc82d0b7a",
            "b7d568ae25f54d648e56bf2b4ee41a3e",
            "52c29c7b87cb42dfb09ca0aac84ffe08",
            "110dd3f2c54641949b10af08b00acfb8",
            "885b098940b546a2b7d7915b01f4a3b5",
            "01db76aae3f948af9a78519497af3e77",
            "195d3d2d4f00421f99c78d491225cee7",
            "3857ca06d383491097ba939d32ba9541"
          ]
        },
        "id": "cBhMPQT6G9ML",
        "outputId": "982d7071-e0c7-4f89-c804-cba6663b1895"
      },
      "execution_count": null,
      "outputs": [
        {
          "output_type": "stream",
          "name": "stderr",
          "text": [
            "WARNING:datasets.builder:Found cached dataset mlsum (/root/.cache/huggingface/datasets/mlsum/de/1.0.0/1b2d4e3020a63e9423caeccd38a04b02b7472d5694a33f4b2ae5b09e11e1f4cb)\n"
          ]
        },
        {
          "output_type": "display_data",
          "data": {
            "text/plain": [
              "  0%|          | 0/3 [00:00<?, ?it/s]"
            ],
            "application/vnd.jupyter.widget-view+json": {
              "version_major": 2,
              "version_minor": 0,
              "model_id": "90ef707a4b8f43839a0ef7f3c1cfede0"
            }
          },
          "metadata": {}
        },
        {
          "output_type": "execute_result",
          "data": {
            "text/plain": [
              "DatasetDict({\n",
              "    train: Dataset({\n",
              "        features: ['text', 'summary', 'topic', 'url', 'title', 'date'],\n",
              "        num_rows: 220887\n",
              "    })\n",
              "    validation: Dataset({\n",
              "        features: ['text', 'summary', 'topic', 'url', 'title', 'date'],\n",
              "        num_rows: 11394\n",
              "    })\n",
              "    test: Dataset({\n",
              "        features: ['text', 'summary', 'topic', 'url', 'title', 'date'],\n",
              "        num_rows: 10701\n",
              "    })\n",
              "})"
            ]
          },
          "metadata": {},
          "execution_count": 45
        }
      ]
    },
    {
      "cell_type": "markdown",
      "source": [
        "## Quality of Samples\n",
        "Despite its popularity, issues in the quality of samples have gone unnoticed until early 2022, when Philip May was the first to report on problems."
      ],
      "metadata": {
        "id": "4j2ACUh7Efw4"
      }
    },
    {
      "cell_type": "code",
      "source": [
        "def is_summary_in_text(summary, text):\n",
        "    assert len(summary) > 0\n",
        "    assert len(text) > 0\n",
        "    return summary in text"
      ],
      "metadata": {
        "id": "ss2I1mF1HSay"
      },
      "execution_count": null,
      "outputs": []
    },
    {
      "cell_type": "code",
      "source": [
        "def count_summary_in_text(dataset, split_name):\n",
        "    count = 0\n",
        "    for item in tqdm(dataset[split_name]):\n",
        "        text = item[\"text\"]\n",
        "        summary = item[\"summary\"]\n",
        "        if is_summary_in_text(summary, text):\n",
        "            count += 1\n",
        "    return count"
      ],
      "metadata": {
        "id": "HC-kyt6xHSnr"
      },
      "execution_count": null,
      "outputs": []
    },
    {
      "cell_type": "code",
      "source": [
        "count_summary_in_text(dataset, \"train\")"
      ],
      "metadata": {
        "colab": {
          "base_uri": "https://localhost:8080/"
        },
        "id": "aUCIEeEnHxkN",
        "outputId": "43531154-16b1-491a-bc44-29cbc6b1b051"
      },
      "execution_count": null,
      "outputs": [
        {
          "output_type": "stream",
          "name": "stderr",
          "text": [
            "100%|██████████| 220887/220887 [00:37<00:00, 5866.94it/s]\n"
          ]
        },
        {
          "output_type": "execute_result",
          "data": {
            "text/plain": [
              "126270"
            ]
          },
          "metadata": {},
          "execution_count": 6
        }
      ]
    },
    {
      "cell_type": "markdown",
      "source": [
        "In 126,270 (more than half) of them the summary is completely included in the text."
      ],
      "metadata": {
        "id": "foSoa5XlHzHy"
      }
    },
    {
      "cell_type": "code",
      "source": [
        "count_summary_in_text(dataset, \"validation\")"
      ],
      "metadata": {
        "colab": {
          "base_uri": "https://localhost:8080/"
        },
        "id": "NZjDqtM5ILi2",
        "outputId": "28554012-0457-424c-9ad8-8f43dada7871"
      },
      "execution_count": null,
      "outputs": [
        {
          "output_type": "stream",
          "name": "stderr",
          "text": [
            "100%|██████████| 11394/11394 [00:01<00:00, 6652.15it/s]\n"
          ]
        },
        {
          "output_type": "execute_result",
          "data": {
            "text/plain": [
              "3285"
            ]
          },
          "metadata": {},
          "execution_count": 7
        }
      ]
    },
    {
      "cell_type": "code",
      "source": [
        "count_summary_in_text(dataset, \"test\")"
      ],
      "metadata": {
        "colab": {
          "base_uri": "https://localhost:8080/"
        },
        "id": "iNOocxDDIXOV",
        "outputId": "fb778f84-b3ce-4f51-ef29-e96968684553"
      },
      "execution_count": null,
      "outputs": [
        {
          "output_type": "stream",
          "name": "stderr",
          "text": [
            "100%|██████████| 10701/10701 [00:01<00:00, 6406.87it/s]\n"
          ]
        },
        {
          "output_type": "execute_result",
          "data": {
            "text/plain": [
              "3306"
            ]
          },
          "metadata": {},
          "execution_count": 8
        }
      ]
    },
    {
      "cell_type": "markdown",
      "source": [
        "## Distribution of topic categories"
      ],
      "metadata": {
        "id": "W1JfQHpHE6pk"
      }
    },
    {
      "cell_type": "code",
      "source": [
        "def count_topic_distribution(dataset, split_name):\n",
        "    return dict((x,dataset[split_name][\"topic\"].count(x)) for x in set(dataset[split_name][\"topic\"]))"
      ],
      "metadata": {
        "id": "q4OIIvMYGJRj"
      },
      "execution_count": null,
      "outputs": []
    },
    {
      "cell_type": "code",
      "source": [
        "count_topic_distribution(dataset, \"train\")"
      ],
      "metadata": {
        "colab": {
          "base_uri": "https://localhost:8080/"
        },
        "id": "wFnbhSmvFuj1",
        "outputId": "bcdda493-2521-49f7-e968-a8ae9feb406d"
      },
      "execution_count": null,
      "outputs": [
        {
          "output_type": "execute_result",
          "data": {
            "text/plain": [
              "{'1.2527726?utm_source=FlexiTM': 1,\n",
              " 'panorama': 21657,\n",
              " 'sport': 48831,\n",
              " 'bildung': 2516,\n",
              " '1.2699904?SRCmuc=FlexiTM': 1,\n",
              " 'muenchen': 4698,\n",
              " 'auto': 6342,\n",
              " 'karriere': 6340,\n",
              " 'app': 6,\n",
              " 'mahjong': 1,\n",
              " 'service': 819,\n",
              " 'kultur': 1,\n",
              " 'politik': 67031,\n",
              " 'stil': 2705,\n",
              " 'reise': 7088,\n",
              " 'digital': 9322,\n",
              " 'tiananmen': 1,\n",
              " 'wirtschaft': 35298,\n",
              " 'thema': 24,\n",
              " 'reisefuehrer': 49,\n",
              " 'geld': 8156}"
            ]
          },
          "metadata": {},
          "execution_count": 11
        }
      ]
    },
    {
      "cell_type": "code",
      "source": [
        "count_topic_distribution(dataset, \"test\")"
      ],
      "metadata": {
        "colab": {
          "base_uri": "https://localhost:8080/"
        },
        "id": "nLsBOWtaHZl7",
        "outputId": "9f8b7ffd-5f73-4caf-d0ff-cdb18097a6e8"
      },
      "execution_count": null,
      "outputs": [
        {
          "output_type": "execute_result",
          "data": {
            "text/plain": [
              "{'reise': 218,\n",
              " 'panorama': 539,\n",
              " 'digital': 235,\n",
              " 'auto': 182,\n",
              " 'sport': 2442,\n",
              " 'bildung': 127,\n",
              " 'muenchen': 557,\n",
              " 'karriere': 124,\n",
              " 'wirtschaft': 2352,\n",
              " 'stil': 208,\n",
              " 'geld': 103,\n",
              " 'politik': 3614}"
            ]
          },
          "metadata": {},
          "execution_count": 12
        }
      ]
    },
    {
      "cell_type": "code",
      "source": [
        "count_topic_distribution(dataset, \"validation\")"
      ],
      "metadata": {
        "colab": {
          "base_uri": "https://localhost:8080/"
        },
        "id": "vN4c9mNrHder",
        "outputId": "b93bb32a-f1dd-434f-e6b9-7f283ee06d6b"
      },
      "execution_count": null,
      "outputs": [
        {
          "output_type": "execute_result",
          "data": {
            "text/plain": [
              "{'reise': 204,\n",
              " 'panorama': 726,\n",
              " 'digital': 254,\n",
              " 'auto': 218,\n",
              " 'sport': 2541,\n",
              " 'bildung': 111,\n",
              " 'muenchen': 547,\n",
              " 'karriere': 149,\n",
              " 'wirtschaft': 2491,\n",
              " 'stil': 205,\n",
              " 'thema': 1,\n",
              " 'geld': 100,\n",
              " 'politik': 3847}"
            ]
          },
          "metadata": {},
          "execution_count": 14
        }
      ]
    },
    {
      "cell_type": "markdown",
      "source": [
        "## Distribution over publisher"
      ],
      "metadata": {
        "id": "R3aVoztGIZyV"
      }
    },
    {
      "cell_type": "code",
      "source": [
        "import re"
      ],
      "metadata": {
        "id": "B0LmkoRfIZP7"
      },
      "execution_count": null,
      "outputs": []
    },
    {
      "cell_type": "code",
      "source": [
        "def count_publisher_distribution(dataset, split_name):\n",
        "  publisher_list = []\n",
        "  for item in dataset[split_name]:\n",
        "    url = item[\"url\"]\n",
        "    m = re.search('https?://([A-Za-z_0-9.-]+).*', url)\n",
        "    publisher_list.append(m.group(1))\n",
        "    return set(publisher_list)"
      ],
      "metadata": {
        "id": "fTazDNPhIb9V"
      },
      "execution_count": null,
      "outputs": []
    },
    {
      "cell_type": "code",
      "source": [
        "count_publisher_distribution(dataset, \"train\")"
      ],
      "metadata": {
        "colab": {
          "base_uri": "https://localhost:8080/"
        },
        "id": "HyTzyk8kJo-k",
        "outputId": "2b7cf6bb-a483-4128-beb0-e31d102ea11d"
      },
      "execution_count": null,
      "outputs": [
        {
          "output_type": "execute_result",
          "data": {
            "text/plain": [
              "{'www.sueddeutsche.de'}"
            ]
          },
          "metadata": {},
          "execution_count": 24
        }
      ]
    },
    {
      "cell_type": "markdown",
      "source": [
        "## Length Check"
      ],
      "metadata": {
        "id": "gmL6v-0eUSkX"
      }
    },
    {
      "cell_type": "code",
      "source": [
        "def get_string_length(dataset, split_name, col):\n",
        "  length_list = [len(item) for item in dataset[split_name][col]]\n",
        "  length_list.sort()\n",
        "  low = length_list[0]\n",
        "  top = length_list[-1]\n",
        "  average = round(sum(length_list) / len(length_list))\n",
        "  return low, top, average"
      ],
      "metadata": {
        "id": "bp-wzManXm1R"
      },
      "execution_count": null,
      "outputs": []
    },
    {
      "cell_type": "code",
      "source": [
        "get_string_length(dataset, \"train\", \"summary\")"
      ],
      "metadata": {
        "colab": {
          "base_uri": "https://localhost:8080/"
        },
        "id": "JjVpesTRYAU-",
        "outputId": "02302bcb-e20d-43bd-8d04-2057884ccaac"
      },
      "execution_count": null,
      "outputs": [
        {
          "output_type": "execute_result",
          "data": {
            "text/plain": [
              "(47, 1389, 192)"
            ]
          },
          "metadata": {},
          "execution_count": 102
        }
      ]
    },
    {
      "cell_type": "code",
      "source": [
        "get_string_length(dataset, \"train\", \"title\")"
      ],
      "metadata": {
        "colab": {
          "base_uri": "https://localhost:8080/"
        },
        "id": "OP-JEvRsaLMP",
        "outputId": "c63d85cc-8f2c-4de4-8df8-82bde385fb04"
      },
      "execution_count": null,
      "outputs": [
        {
          "output_type": "execute_result",
          "data": {
            "text/plain": [
              "(4, 133, 47)"
            ]
          },
          "metadata": {},
          "execution_count": 103
        }
      ]
    },
    {
      "cell_type": "markdown",
      "source": [
        "## Title = Summary?"
      ],
      "metadata": {
        "id": "Ok6600Y1LZzT"
      }
    },
    {
      "cell_type": "code",
      "source": [
        "# test if there are titles as summaries"
      ],
      "metadata": {
        "id": "s7iMnI8RSFJo"
      },
      "execution_count": null,
      "outputs": []
    },
    {
      "cell_type": "markdown",
      "source": [
        "## Distribution over time\n",
        "\n"
      ],
      "metadata": {
        "id": "zxUIxXRRILzH"
      }
    },
    {
      "cell_type": "code",
      "source": [
        "def get_time_distribution(dataset, split_name):\n",
        "  return set(dataset[split_name][\"date\"])"
      ],
      "metadata": {
        "id": "zpNeo5gdIIy7"
      },
      "execution_count": null,
      "outputs": []
    },
    {
      "cell_type": "code",
      "source": [
        "get_time_distribution(dataset, \"validation\")"
      ],
      "metadata": {
        "colab": {
          "base_uri": "https://localhost:8080/"
        },
        "id": "lyesR7WYMYI_",
        "outputId": "dc3d81ac-a120-4ca0-c296-e70bd7986829"
      },
      "execution_count": null,
      "outputs": [
        {
          "output_type": "execute_result",
          "data": {
            "text/plain": [
              "{'00/01/2019', '00/02/2019', '00/03/2019', '00/04/2019', '00/05/2019'}"
            ]
          },
          "metadata": {},
          "execution_count": 58
        }
      ]
    },
    {
      "cell_type": "code",
      "source": [],
      "metadata": {
        "id": "Mjjer0YZLff5"
      },
      "execution_count": null,
      "outputs": []
    }
  ]
}